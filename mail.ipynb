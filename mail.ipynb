{
 "cells": [
  {
   "cell_type": "code",
   "execution_count": 67,
   "metadata": {},
   "outputs": [],
   "source": [
    "import os\n",
    "import imaplib\n",
    "import pprint\n",
    "import email\n",
    "import dotenv\n"
   ]
  },
  {
   "cell_type": "code",
   "execution_count": 68,
   "metadata": {},
   "outputs": [
    {
     "data": {
      "text/plain": [
       "True"
      ]
     },
     "execution_count": 68,
     "metadata": {},
     "output_type": "execute_result"
    }
   ],
   "source": [
    "dotenv.load_dotenv()\n"
   ]
  },
  {
   "cell_type": "code",
   "execution_count": null,
   "metadata": {},
   "outputs": [
    {
     "ename": "",
     "evalue": "",
     "output_type": "error",
     "traceback": [
      "\u001b[1;31mRunning cells with '/opt/homebrew/bin/python3' requires the ipykernel package.\n",
      "\u001b[1;31mRun the following command to install 'ipykernel' into the Python environment. \n",
      "\u001b[1;31mCommand: '/opt/homebrew/bin/python3 -m pip install ipykernel -U --user --force-reinstall'"
     ]
    }
   ],
   "source": [
    "username = os.getenv('EMAIL')\n",
    "password = os.getenv('PASSWORD')\n",
    "imap_host = os.getenv('HOST')\n",
    "imap_port = os.getenv('PORT')"
   ]
  },
  {
   "cell_type": "code",
   "execution_count": null,
   "metadata": {},
   "outputs": [
    {
     "ename": "",
     "evalue": "",
     "output_type": "error",
     "traceback": [
      "\u001b[1;31mRunning cells with '/opt/homebrew/bin/python3' requires the ipykernel package.\n",
      "\u001b[1;31mRun the following command to install 'ipykernel' into the Python environment. \n",
      "\u001b[1;31mCommand: '/opt/homebrew/bin/python3 -m pip install ipykernel -U --user --force-reinstall'"
     ]
    }
   ],
   "source": [
    "iMap = imaplib.IMAP4_SSL(imap_host, imap_port)\n",
    "iMap.login(username, password)"
   ]
  },
  {
   "cell_type": "code",
   "execution_count": null,
   "metadata": {},
   "outputs": [],
   "source": [
    "iMap.select(\"Inbox\")\n",
    "is_ok, msg = iMap.search(None, \"ALL\")\n",
    "\n",
    "if is_ok:\n",
    "    print(\"OK\", msg)\n"
   ]
  },
  {
   "cell_type": "code",
   "execution_count": null,
   "metadata": {},
   "outputs": [],
   "source": [
    "for msgs in msg[0].split():\n",
    "    is_ok, data = iMap.fetch(msgs, '(RFC822)')\n",
    "\n",
    "    message = email.message_from_bytes(data[0][1])\n",
    "\n",
    "    print(message.get('Subject'))\n",
    "    print(message.get('From'))\n",
    "    print(message.get('To'))\n",
    "    print(message.get('Date'))\n",
    "\n",
    "    for part in message.walk():\n",
    "        if part.get_content_type() == \"text/plain\":\n",
    "            part_as_string = part.as_string()\n",
    "            print(part_as_string)\n",
    "\n",
    "iMap.close()\n"
   ]
  }
 ],
 "metadata": {
  "kernelspec": {
   "display_name": "Python 3",
   "language": "python",
   "name": "python3"
  },
  "language_info": {
   "codemirror_mode": {
    "name": "ipython",
    "version": 3
   },
   "file_extension": ".py",
   "mimetype": "text/x-python",
   "name": "python",
   "nbconvert_exporter": "python",
   "pygments_lexer": "ipython3",
   "version": "3.13.0"
  },
  "orig_nbformat": 4
 },
 "nbformat": 4,
 "nbformat_minor": 2
}
